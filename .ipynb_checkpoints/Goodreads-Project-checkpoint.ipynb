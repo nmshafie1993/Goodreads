{
 "cells": [
  {
   "cell_type": "markdown",
   "metadata": {},
   "source": [
    "## The Goodreads Project <br> \n",
    "Written by: Niyousha Mohammadshafie <br>\n",
    "Date:  July 2020"
   ]
  },
  {
   "cell_type": "markdown",
   "metadata": {},
   "source": [
    "### Loading the Libraries"
   ]
  },
  {
   "cell_type": "code",
   "execution_count": 1,
   "metadata": {},
   "outputs": [],
   "source": [
    "import pandas as pd\n",
    "import numpy as np\n",
    "import matplotlib.pyplot as plt\n",
    "import seaborn as sns\n",
    "%matplotlib inline"
   ]
  },
  {
   "cell_type": "markdown",
   "metadata": {},
   "source": [
    "### Loading the Data"
   ]
  },
  {
   "cell_type": "code",
   "execution_count": 2,
   "metadata": {},
   "outputs": [
    {
     "name": "stderr",
     "output_type": "stream",
     "text": [
      "b'Skipping line 3350: expected 12 fields, saw 13\\nSkipping line 4704: expected 12 fields, saw 13\\nSkipping line 5879: expected 12 fields, saw 13\\nSkipping line 8981: expected 12 fields, saw 13\\n'\n"
     ]
    }
   ],
   "source": [
    "df = pd.read_csv('../Goodreads/books.csv', error_bad_lines=False)"
   ]
  },
  {
   "cell_type": "code",
   "execution_count": 3,
   "metadata": {},
   "outputs": [
    {
     "data": {
      "text/html": [
       "<div>\n",
       "<style scoped>\n",
       "    .dataframe tbody tr th:only-of-type {\n",
       "        vertical-align: middle;\n",
       "    }\n",
       "\n",
       "    .dataframe tbody tr th {\n",
       "        vertical-align: top;\n",
       "    }\n",
       "\n",
       "    .dataframe thead th {\n",
       "        text-align: right;\n",
       "    }\n",
       "</style>\n",
       "<table border=\"1\" class=\"dataframe\">\n",
       "  <thead>\n",
       "    <tr style=\"text-align: right;\">\n",
       "      <th></th>\n",
       "      <th>bookID</th>\n",
       "      <th>title</th>\n",
       "      <th>authors</th>\n",
       "      <th>average_rating</th>\n",
       "      <th>isbn</th>\n",
       "      <th>isbn13</th>\n",
       "      <th>language_code</th>\n",
       "      <th>num_pages</th>\n",
       "      <th>ratings_count</th>\n",
       "      <th>text_reviews_count</th>\n",
       "      <th>publication_date</th>\n",
       "      <th>publisher</th>\n",
       "    </tr>\n",
       "  </thead>\n",
       "  <tbody>\n",
       "    <tr>\n",
       "      <th>0</th>\n",
       "      <td>1</td>\n",
       "      <td>Harry Potter and the Half-Blood Prince (Harry ...</td>\n",
       "      <td>J.K. Rowling/Mary GrandPré</td>\n",
       "      <td>4.57</td>\n",
       "      <td>0439785960</td>\n",
       "      <td>9780439785969</td>\n",
       "      <td>eng</td>\n",
       "      <td>652</td>\n",
       "      <td>2095690</td>\n",
       "      <td>27591</td>\n",
       "      <td>9/16/2006</td>\n",
       "      <td>Scholastic Inc.</td>\n",
       "    </tr>\n",
       "    <tr>\n",
       "      <th>1</th>\n",
       "      <td>2</td>\n",
       "      <td>Harry Potter and the Order of the Phoenix (Har...</td>\n",
       "      <td>J.K. Rowling/Mary GrandPré</td>\n",
       "      <td>4.49</td>\n",
       "      <td>0439358078</td>\n",
       "      <td>9780439358071</td>\n",
       "      <td>eng</td>\n",
       "      <td>870</td>\n",
       "      <td>2153167</td>\n",
       "      <td>29221</td>\n",
       "      <td>9/1/2004</td>\n",
       "      <td>Scholastic Inc.</td>\n",
       "    </tr>\n",
       "    <tr>\n",
       "      <th>2</th>\n",
       "      <td>4</td>\n",
       "      <td>Harry Potter and the Chamber of Secrets (Harry...</td>\n",
       "      <td>J.K. Rowling</td>\n",
       "      <td>4.42</td>\n",
       "      <td>0439554896</td>\n",
       "      <td>9780439554893</td>\n",
       "      <td>eng</td>\n",
       "      <td>352</td>\n",
       "      <td>6333</td>\n",
       "      <td>244</td>\n",
       "      <td>11/1/2003</td>\n",
       "      <td>Scholastic</td>\n",
       "    </tr>\n",
       "    <tr>\n",
       "      <th>3</th>\n",
       "      <td>5</td>\n",
       "      <td>Harry Potter and the Prisoner of Azkaban (Harr...</td>\n",
       "      <td>J.K. Rowling/Mary GrandPré</td>\n",
       "      <td>4.56</td>\n",
       "      <td>043965548X</td>\n",
       "      <td>9780439655484</td>\n",
       "      <td>eng</td>\n",
       "      <td>435</td>\n",
       "      <td>2339585</td>\n",
       "      <td>36325</td>\n",
       "      <td>5/1/2004</td>\n",
       "      <td>Scholastic Inc.</td>\n",
       "    </tr>\n",
       "    <tr>\n",
       "      <th>4</th>\n",
       "      <td>8</td>\n",
       "      <td>Harry Potter Boxed Set  Books 1-5 (Harry Potte...</td>\n",
       "      <td>J.K. Rowling/Mary GrandPré</td>\n",
       "      <td>4.78</td>\n",
       "      <td>0439682584</td>\n",
       "      <td>9780439682589</td>\n",
       "      <td>eng</td>\n",
       "      <td>2690</td>\n",
       "      <td>41428</td>\n",
       "      <td>164</td>\n",
       "      <td>9/13/2004</td>\n",
       "      <td>Scholastic</td>\n",
       "    </tr>\n",
       "  </tbody>\n",
       "</table>\n",
       "</div>"
      ],
      "text/plain": [
       "   bookID                                              title  \\\n",
       "0       1  Harry Potter and the Half-Blood Prince (Harry ...   \n",
       "1       2  Harry Potter and the Order of the Phoenix (Har...   \n",
       "2       4  Harry Potter and the Chamber of Secrets (Harry...   \n",
       "3       5  Harry Potter and the Prisoner of Azkaban (Harr...   \n",
       "4       8  Harry Potter Boxed Set  Books 1-5 (Harry Potte...   \n",
       "\n",
       "                      authors  average_rating        isbn         isbn13  \\\n",
       "0  J.K. Rowling/Mary GrandPré            4.57  0439785960  9780439785969   \n",
       "1  J.K. Rowling/Mary GrandPré            4.49  0439358078  9780439358071   \n",
       "2                J.K. Rowling            4.42  0439554896  9780439554893   \n",
       "3  J.K. Rowling/Mary GrandPré            4.56  043965548X  9780439655484   \n",
       "4  J.K. Rowling/Mary GrandPré            4.78  0439682584  9780439682589   \n",
       "\n",
       "  language_code    num_pages  ratings_count  text_reviews_count  \\\n",
       "0           eng          652        2095690               27591   \n",
       "1           eng          870        2153167               29221   \n",
       "2           eng          352           6333                 244   \n",
       "3           eng          435        2339585               36325   \n",
       "4           eng         2690          41428                 164   \n",
       "\n",
       "  publication_date        publisher  \n",
       "0        9/16/2006  Scholastic Inc.  \n",
       "1         9/1/2004  Scholastic Inc.  \n",
       "2        11/1/2003       Scholastic  \n",
       "3         5/1/2004  Scholastic Inc.  \n",
       "4        9/13/2004       Scholastic  "
      ]
     },
     "execution_count": 3,
     "metadata": {},
     "output_type": "execute_result"
    }
   ],
   "source": [
    "df.head(5)"
   ]
  },
  {
   "cell_type": "code",
   "execution_count": 4,
   "metadata": {},
   "outputs": [
    {
     "data": {
      "text/plain": [
       "(11123, 12)"
      ]
     },
     "execution_count": 4,
     "metadata": {},
     "output_type": "execute_result"
    }
   ],
   "source": [
    "df.shape"
   ]
  },
  {
   "cell_type": "markdown",
   "metadata": {},
   "source": [
    "#### Columns Description:\n",
    "- **bookID**: Unique ID of the books <br>\n",
    "- **title**: Titles of the books<br>\n",
    "- **authors**: Authors of the books<br>\n",
    "- **average_rating**: The average rating of the books, as decided by the users<br>\n",
    "- **isbn**: Specific information about the books - such as edition and publisher<br>\n",
    "- **isbn13**: The new format for ISBN, implemented in 2007. 13 digits<br>\n",
    "- **language_code**: Language of the books<br>\n",
    "- **num_pages**: Number of pages for the books<br>\n",
    "- **ratings_count**: Number of ratings given for the books<br>\n",
    "- **text_reviews_count**: The count of reviews left by users\n",
    "- **publication_date**: Date of the publication of the books\n",
    "- **publisher**: Name of the publisher of the books"
   ]
  },
  {
   "cell_type": "markdown",
   "metadata": {},
   "source": [
    "### Data Cleaning"
   ]
  },
  {
   "cell_type": "code",
   "execution_count": 5,
   "metadata": {},
   "outputs": [],
   "source": [
    "books = df.copy() "
   ]
  },
  {
   "cell_type": "code",
   "execution_count": 6,
   "metadata": {},
   "outputs": [],
   "source": [
    "books.drop(['isbn','isbn13'],axis = 1,inplace=True) #dropping unnecessary data"
   ]
  },
  {
   "cell_type": "code",
   "execution_count": 7,
   "metadata": {},
   "outputs": [
    {
     "name": "stdout",
     "output_type": "stream",
     "text": [
      "bookID : False\n",
      "title : False\n",
      "authors : False\n",
      "average_rating : False\n",
      "language_code : False\n",
      "  num_pages : False\n",
      "ratings_count : False\n",
      "text_reviews_count : False\n",
      "publication_date : False\n",
      "publisher : False\n"
     ]
    }
   ],
   "source": [
    "#checking for missing data\n",
    "columns = list(books.columns)\n",
    "for col in columns:\n",
    "    print(f'{col} : {pd.isnull(col)}')"
   ]
  },
  {
   "cell_type": "markdown",
   "metadata": {},
   "source": [
    "The data has no missing values. "
   ]
  },
  {
   "cell_type": "code",
   "execution_count": 9,
   "metadata": {},
   "outputs": [
    {
     "name": "stdout",
     "output_type": "stream",
     "text": [
      "bookID : int64\n",
      "title : object\n",
      "authors : object\n",
      "average_rating : float64\n",
      "language_code : object\n",
      "  num_pages : int64\n",
      "ratings_count : int64\n",
      "text_reviews_count : int64\n",
      "publication_date : object\n",
      "publisher : object\n"
     ]
    }
   ],
   "source": [
    "for col in columns:\n",
    "    print(f'{col} : {books[col].dtypes}')"
   ]
  },
  {
   "cell_type": "code",
   "execution_count": 10,
   "metadata": {},
   "outputs": [],
   "source": [
    "books['num_pages'] = books['  num_pages'] "
   ]
  },
  {
   "cell_type": "code",
   "execution_count": 11,
   "metadata": {},
   "outputs": [],
   "source": [
    "books['authors'] = books['authors'].apply(lambda x: x.split('/')[0])"
   ]
  },
  {
   "cell_type": "markdown",
   "metadata": {},
   "source": [
    "The duplicated rows of the same books need to be removed."
   ]
  },
  {
   "cell_type": "code",
   "execution_count": 12,
   "metadata": {},
   "outputs": [],
   "source": [
    "books = books.sort_values(by = ['title', 'authors', 'ratings_count'])"
   ]
  },
  {
   "cell_type": "code",
   "execution_count": 13,
   "metadata": {},
   "outputs": [],
   "source": [
    "#check for the repitative rows\n",
    "books.drop_duplicates(subset=['title','authors'], keep = 'last', inplace = True)"
   ]
  },
  {
   "cell_type": "code",
   "execution_count": 14,
   "metadata": {},
   "outputs": [
    {
     "data": {
      "text/plain": [
       "(10421, 11)"
      ]
     },
     "execution_count": 14,
     "metadata": {},
     "output_type": "execute_result"
    }
   ],
   "source": [
    "books.shape"
   ]
  },
  {
   "cell_type": "code",
   "execution_count": 15,
   "metadata": {},
   "outputs": [
    {
     "data": {
      "text/plain": [
       "dtype('int64')"
      ]
     },
     "execution_count": 15,
     "metadata": {},
     "output_type": "execute_result"
    }
   ],
   "source": [
    "books['publication year'] = books['publication_date'].apply(lambda x: x.split('/')[2])\n",
    "books['publication year'].astype('int64').dtypes"
   ]
  },
  {
   "cell_type": "code",
   "execution_count": 16,
   "metadata": {},
   "outputs": [],
   "source": [
    "books.drop(['publication_date'],axis = 1,inplace=True)"
   ]
  },
  {
   "cell_type": "code",
   "execution_count": 17,
   "metadata": {},
   "outputs": [
    {
     "data": {
      "text/html": [
       "<div>\n",
       "<style scoped>\n",
       "    .dataframe tbody tr th:only-of-type {\n",
       "        vertical-align: middle;\n",
       "    }\n",
       "\n",
       "    .dataframe tbody tr th {\n",
       "        vertical-align: top;\n",
       "    }\n",
       "\n",
       "    .dataframe thead th {\n",
       "        text-align: right;\n",
       "    }\n",
       "</style>\n",
       "<table border=\"1\" class=\"dataframe\">\n",
       "  <thead>\n",
       "    <tr style=\"text-align: right;\">\n",
       "      <th></th>\n",
       "      <th>title</th>\n",
       "      <th>authors</th>\n",
       "      <th>average_rating</th>\n",
       "      <th>language_code</th>\n",
       "      <th>num_pages</th>\n",
       "      <th>ratings_count</th>\n",
       "      <th>text_reviews_count</th>\n",
       "      <th>publisher</th>\n",
       "      <th>num_pages</th>\n",
       "      <th>publication year</th>\n",
       "    </tr>\n",
       "    <tr>\n",
       "      <th>bookID</th>\n",
       "      <th></th>\n",
       "      <th></th>\n",
       "      <th></th>\n",
       "      <th></th>\n",
       "      <th></th>\n",
       "      <th></th>\n",
       "      <th></th>\n",
       "      <th></th>\n",
       "      <th></th>\n",
       "      <th></th>\n",
       "    </tr>\n",
       "  </thead>\n",
       "  <tbody>\n",
       "    <tr>\n",
       "      <th>6549</th>\n",
       "      <td>said the shotgun to the head.</td>\n",
       "      <td>Saul Williams</td>\n",
       "      <td>4.22</td>\n",
       "      <td>en-US</td>\n",
       "      <td>192</td>\n",
       "      <td>2762</td>\n",
       "      <td>214</td>\n",
       "      <td>MTV Books</td>\n",
       "      <td>192</td>\n",
       "      <td>2003</td>\n",
       "    </tr>\n",
       "    <tr>\n",
       "      <th>14490</th>\n",
       "      <td>$30 Film School: How to Write  Direct  Produce...</td>\n",
       "      <td>Michael W. Dean</td>\n",
       "      <td>3.49</td>\n",
       "      <td>eng</td>\n",
       "      <td>528</td>\n",
       "      <td>30</td>\n",
       "      <td>4</td>\n",
       "      <td>Cengage Learning</td>\n",
       "      <td>528</td>\n",
       "      <td>2003</td>\n",
       "    </tr>\n",
       "    <tr>\n",
       "      <th>5413</th>\n",
       "      <td>'Salem's Lot</td>\n",
       "      <td>Stephen King</td>\n",
       "      <td>4.25</td>\n",
       "      <td>eng</td>\n",
       "      <td>594</td>\n",
       "      <td>84123</td>\n",
       "      <td>571</td>\n",
       "      <td>Doubleday</td>\n",
       "      <td>594</td>\n",
       "      <td>2005</td>\n",
       "    </tr>\n",
       "    <tr>\n",
       "      <th>11525</th>\n",
       "      <td>1 000 Places to See Before You Die</td>\n",
       "      <td>Patricia Schultz</td>\n",
       "      <td>3.85</td>\n",
       "      <td>eng</td>\n",
       "      <td>992</td>\n",
       "      <td>36303</td>\n",
       "      <td>439</td>\n",
       "      <td>Workman Publishing Company</td>\n",
       "      <td>992</td>\n",
       "      <td>2003</td>\n",
       "    </tr>\n",
       "    <tr>\n",
       "      <th>8542</th>\n",
       "      <td>10 lb Penalty</td>\n",
       "      <td>Dick Francis</td>\n",
       "      <td>3.90</td>\n",
       "      <td>eng</td>\n",
       "      <td>320</td>\n",
       "      <td>3490</td>\n",
       "      <td>177</td>\n",
       "      <td>G.P. Putnam's Sons</td>\n",
       "      <td>320</td>\n",
       "      <td>2004</td>\n",
       "    </tr>\n",
       "    <tr>\n",
       "      <th>...</th>\n",
       "      <td>...</td>\n",
       "      <td>...</td>\n",
       "      <td>...</td>\n",
       "      <td>...</td>\n",
       "      <td>...</td>\n",
       "      <td>...</td>\n",
       "      <td>...</td>\n",
       "      <td>...</td>\n",
       "      <td>...</td>\n",
       "      <td>...</td>\n",
       "    </tr>\n",
       "    <tr>\n",
       "      <th>31993</th>\n",
       "      <td>鋼之鍊金術師 6</td>\n",
       "      <td>Hiromu Arakawa</td>\n",
       "      <td>4.58</td>\n",
       "      <td>zho</td>\n",
       "      <td>191</td>\n",
       "      <td>5</td>\n",
       "      <td>0</td>\n",
       "      <td>東立</td>\n",
       "      <td>191</td>\n",
       "      <td>2004</td>\n",
       "    </tr>\n",
       "    <tr>\n",
       "      <th>31999</th>\n",
       "      <td>鋼之鍊金術師 7</td>\n",
       "      <td>Hiromu Arakawa</td>\n",
       "      <td>4.57</td>\n",
       "      <td>zho</td>\n",
       "      <td>191</td>\n",
       "      <td>5</td>\n",
       "      <td>0</td>\n",
       "      <td>東立</td>\n",
       "      <td>191</td>\n",
       "      <td>2004</td>\n",
       "    </tr>\n",
       "    <tr>\n",
       "      <th>31996</th>\n",
       "      <td>鋼之鍊金術師 9</td>\n",
       "      <td>Hiromu Arakawa</td>\n",
       "      <td>4.57</td>\n",
       "      <td>zho</td>\n",
       "      <td>184</td>\n",
       "      <td>4</td>\n",
       "      <td>0</td>\n",
       "      <td>東立</td>\n",
       "      <td>184</td>\n",
       "      <td>2004</td>\n",
       "    </tr>\n",
       "    <tr>\n",
       "      <th>15318</th>\n",
       "      <td>魔戒二部曲：雙城奇謀</td>\n",
       "      <td>J.R.R. Tolkien</td>\n",
       "      <td>4.44</td>\n",
       "      <td>zho</td>\n",
       "      <td>467</td>\n",
       "      <td>24</td>\n",
       "      <td>0</td>\n",
       "      <td>聯經出版事業股份有限公司</td>\n",
       "      <td>467</td>\n",
       "      <td>2001</td>\n",
       "    </tr>\n",
       "    <tr>\n",
       "      <th>15294</th>\n",
       "      <td>魔戒首部曲：魔戒現身</td>\n",
       "      <td>J.R.R. Tolkien</td>\n",
       "      <td>4.36</td>\n",
       "      <td>zho</td>\n",
       "      <td>608</td>\n",
       "      <td>26</td>\n",
       "      <td>0</td>\n",
       "      <td>聯經出版事業股份有限公司</td>\n",
       "      <td>608</td>\n",
       "      <td>2001</td>\n",
       "    </tr>\n",
       "  </tbody>\n",
       "</table>\n",
       "<p>10421 rows × 10 columns</p>\n",
       "</div>"
      ],
      "text/plain": [
       "                                                    title           authors  \\\n",
       "bookID                                                                        \n",
       "6549                        said the shotgun to the head.     Saul Williams   \n",
       "14490   $30 Film School: How to Write  Direct  Produce...   Michael W. Dean   \n",
       "5413                                         'Salem's Lot      Stephen King   \n",
       "11525                  1 000 Places to See Before You Die  Patricia Schultz   \n",
       "8542                                        10 lb Penalty      Dick Francis   \n",
       "...                                                   ...               ...   \n",
       "31993                                            鋼之鍊金術師 6    Hiromu Arakawa   \n",
       "31999                                            鋼之鍊金術師 7    Hiromu Arakawa   \n",
       "31996                                            鋼之鍊金術師 9    Hiromu Arakawa   \n",
       "15318                                          魔戒二部曲：雙城奇謀    J.R.R. Tolkien   \n",
       "15294                                          魔戒首部曲：魔戒現身    J.R.R. Tolkien   \n",
       "\n",
       "        average_rating language_code    num_pages  ratings_count  \\\n",
       "bookID                                                             \n",
       "6549              4.22         en-US          192           2762   \n",
       "14490             3.49           eng          528             30   \n",
       "5413              4.25           eng          594          84123   \n",
       "11525             3.85           eng          992          36303   \n",
       "8542              3.90           eng          320           3490   \n",
       "...                ...           ...          ...            ...   \n",
       "31993             4.58           zho          191              5   \n",
       "31999             4.57           zho          191              5   \n",
       "31996             4.57           zho          184              4   \n",
       "15318             4.44           zho          467             24   \n",
       "15294             4.36           zho          608             26   \n",
       "\n",
       "        text_reviews_count                   publisher  num_pages  \\\n",
       "bookID                                                              \n",
       "6549                   214                   MTV Books        192   \n",
       "14490                    4            Cengage Learning        528   \n",
       "5413                   571                   Doubleday        594   \n",
       "11525                  439  Workman Publishing Company        992   \n",
       "8542                   177          G.P. Putnam's Sons        320   \n",
       "...                    ...                         ...        ...   \n",
       "31993                    0                          東立        191   \n",
       "31999                    0                          東立        191   \n",
       "31996                    0                          東立        184   \n",
       "15318                    0                聯經出版事業股份有限公司        467   \n",
       "15294                    0                聯經出版事業股份有限公司        608   \n",
       "\n",
       "       publication year  \n",
       "bookID                   \n",
       "6549               2003  \n",
       "14490              2003  \n",
       "5413               2005  \n",
       "11525              2003  \n",
       "8542               2004  \n",
       "...                 ...  \n",
       "31993              2004  \n",
       "31999              2004  \n",
       "31996              2004  \n",
       "15318              2001  \n",
       "15294              2001  \n",
       "\n",
       "[10421 rows x 10 columns]"
      ]
     },
     "execution_count": 17,
     "metadata": {},
     "output_type": "execute_result"
    }
   ],
   "source": [
    "books.set_index('bookID')"
   ]
  },
  {
   "cell_type": "markdown",
   "metadata": {},
   "source": [
    "### Exploratory Data Analysis"
   ]
  },
  {
   "cell_type": "markdown",
   "metadata": {},
   "source": [
    "**Most Rated Books**"
   ]
  },
  {
   "cell_type": "code",
   "execution_count": 120,
   "metadata": {},
   "outputs": [
    {
     "data": {
      "image/png": "[encoded data removed]",
      "text/plain": [
       "<Figure size 1080x360 with 3 Axes>"
      ]
     },
     "metadata": {},
     "output_type": "display_data"
    }
   ],
   "source": [
    "most_rated = books.sort_values(by = ['ratings_count'], ascending = False).head(5)\n",
    "\n",
    "x1 = most_rated.title.str[:40]\n",
    "fig, (ax1, ax2, ax3) = plt.subplots(ncols = 3, nrows = 1, figsize=(15,5))\n",
    "sns.set_style(\"ticks\")\n",
    "\n",
    "sns.barplot(y = 'ratings_count', x = x1, \n",
    "            data = most_rated, palette = \"Blues_d\", ax = ax1)\n",
    "\n",
    "sns.barplot(y = 'ratings_count', x = 'authors', \n",
    "            data = most_rated, palette = \"Blues_d\", ax = ax2)\n",
    "\n",
    "sns.barplot(y = 'ratings_count', x = 'publisher', \n",
    "            data = most_rated, palette = \"Blues_d\", ax = ax3)\n",
    "\n",
    "\n",
    "ax2.set_title('Top 10 Most Rated Books', weight = 'bold', fontsize = '18', y = 1.1)\n",
    "ax1.set_xlabel('', weight = 'bold', fontsize = '16') \n",
    "ax2.set_xlabel('', weight = 'bold', fontsize = '16')\n",
    "ax3.set_xlabel('', weight = 'bold', fontsize = '16')\n",
    "\n",
    "ax1.set_ylabel('Rating Counts', weight = 'bold', fontsize = '16')\n",
    "ax2.set_ylabel('', weight = 'bold', fontsize = '16')\n",
    "ax3.set_ylabel('', weight = 'bold', fontsize = '16')\n",
    "ax2.xaxis.set_label_coords(0.5, -0.5)\n",
    "\n",
    "\n",
    "for ax in fig.axes:\n",
    "    plt.sca(ax)\n",
    "    plt.xticks(rotation=90)\n",
    "\n",
    "ax1.text(0.8, 0.9, 'Books', fontsize=16, ha='center', va='center', transform=ax1.transAxes)\n",
    "ax2.text(0.8, 0.9, 'Authors', fontsize=16, ha='center', va='center', transform=ax2.transAxes)\n",
    "ax3.text(0.8, 0.9, 'Publishers', fontsize=16, ha='center', va='center', transform=ax3.transAxes)\n",
    "\n",
    "\n",
    "plt.show()"
   ]
  },
  {
   "cell_type": "markdown",
   "metadata": {},
   "source": [
    "**Longest Books** "
   ]
  },
  {
   "cell_type": "code",
   "execution_count": 123,
   "metadata": {},
   "outputs": [
    {
     "data": {
      "image/png": "[encoded data removed]",
      "text/plain": [
       "<Figure size 1080x360 with 3 Axes>"
      ]
     },
     "metadata": {},
     "output_type": "display_data"
    }
   ],
   "source": [
    "most_rated = books.sort_values(by = ['num_pages'], ascending = False).head(5)\n",
    "\n",
    "x1 = most_rated.title.str[:40]\n",
    "fig, (ax1, ax2, ax3) = plt.subplots(ncols = 3, nrows = 1, figsize=(15,5))\n",
    "sns.set_style(\"ticks\")\n",
    "\n",
    "sns.barplot(y = 'num_pages', x = x1, \n",
    "            data = most_rated, palette = \"BuPu\", ax = ax1)\n",
    "\n",
    "sns.barplot(y = 'num_pages', x = 'authors', \n",
    "            data = most_rated, palette = \"BuPu\", ax = ax2)\n",
    "\n",
    "sns.barplot(y = 'num_pages', x = 'publisher', \n",
    "            data = most_rated, palette = \"BuPu\", ax = ax3)\n",
    "\n",
    "\n",
    "ax2.set_title('Top 10 Most Longest Books', weight = 'bold', fontsize = '18', y = 1.1)\n",
    "ax1.set_xlabel('', weight = 'bold', fontsize = '16') \n",
    "ax2.set_xlabel('', weight = 'bold', fontsize = '16')\n",
    "ax3.set_xlabel('', weight = 'bold', fontsize = '16')\n",
    "\n",
    "ax1.set_ylabel('Number of Pages', weight = 'bold', fontsize = '16')\n",
    "ax2.set_ylabel('', weight = 'bold', fontsize = '16')\n",
    "ax3.set_ylabel('', weight = 'bold', fontsize = '16')\n",
    "ax2.xaxis.set_label_coords(0.5, -0.5)\n",
    "\n",
    "\n",
    "for ax in fig.axes:\n",
    "    plt.sca(ax)\n",
    "    plt.xticks(rotation=90)\n",
    "\n",
    "ax1.text(0.8, 0.9, 'Books', fontsize=16, ha='center', va='center', transform=ax1.transAxes)\n",
    "ax2.text(0.8, 0.9, 'Authors', fontsize=16, ha='center', va='center', transform=ax2.transAxes)\n",
    "ax3.text(0.8, 0.9, 'Publishers', fontsize=16, ha='center', va='center', transform=ax3.transAxes)\n",
    "\n",
    "\n",
    "plt.show()"
   ]
  },
  {
   "cell_type": "markdown",
   "metadata": {},
   "source": [
    "**Rating & Review Distribution** "
   ]
  },
  {
   "cell_type": "code",
   "execution_count": 129,
   "metadata": {},
   "outputs": [
    {
     "data": {
      "image/png": "[encoded data removed]",
      "text/plain": [
       "<Figure size 432x288 with 1 Axes>"
      ]
     },
     "metadata": {},
     "output_type": "display_data"
    }
   ],
   "source": [
    "sns.distplot(books['average_rating'], hist = True, bins = 40, color = 'lightcoral')\n",
    "\n",
    "plt.title('Average Rating Distribution', weight = 'bold', fontsize = '18', y = 1.1)\n",
    "plt.xlabel('Average Rating Value', fontsize = '14')\n",
    "\n",
    "plt.show()"
   ]
  },
  {
   "cell_type": "markdown",
   "metadata": {},
   "source": [
    "Correlation matrix & Heatmap"
   ]
  },
  {
   "cell_type": "code",
   "execution_count": 133,
   "metadata": {},
   "outputs": [
    {
     "ename": "AttributeError",
     "evalue": "'AxesSubplot' object has no attribute 'sns'",
     "output_type": "error",
     "traceback": [
      "\u001b[1;31m---------------------------------------------------------------------------\u001b[0m",
      "\u001b[1;31mAttributeError\u001b[0m                            Traceback (most recent call last)",
      "\u001b[1;32m<ipython-input-133-4965a9491040>\u001b[0m in \u001b[0;36m<module>\u001b[1;34m\u001b[0m\n\u001b[0;32m      8\u001b[0m \u001b[0mcorr_df2\u001b[0m \u001b[1;33m=\u001b[0m \u001b[0mbooks\u001b[0m\u001b[1;33m[\u001b[0m\u001b[1;33m[\u001b[0m\u001b[1;34m'authors'\u001b[0m\u001b[1;33m,\u001b[0m\u001b[1;34m'average_rating'\u001b[0m\u001b[1;33m,\u001b[0m\u001b[1;34m'ratings_count'\u001b[0m\u001b[1;33m,\u001b[0m\u001b[1;34m'text_reviews_count'\u001b[0m\u001b[1;33m,\u001b[0m\u001b[1;34m'num_pages'\u001b[0m\u001b[1;33m]\u001b[0m\u001b[1;33m]\u001b[0m\u001b[1;33m.\u001b[0m\u001b[0mhead\u001b[0m\u001b[1;33m(\u001b[0m\u001b[1;36m100\u001b[0m\u001b[1;33m)\u001b[0m\u001b[1;33m.\u001b[0m\u001b[0mcorr\u001b[0m\u001b[1;33m(\u001b[0m\u001b[1;33m)\u001b[0m\u001b[1;33m\u001b[0m\u001b[1;33m\u001b[0m\u001b[0m\n\u001b[0;32m      9\u001b[0m \u001b[1;33m\u001b[0m\u001b[0m\n\u001b[1;32m---> 10\u001b[1;33m ax1.sns.heatmap(corr_df1, annot=True, vmax=1, vmin = 0, fmt='.3f', cmap='vlag_r',ax = ax1, \n\u001b[0m\u001b[0;32m     11\u001b[0m             \u001b[0mlinewidth\u001b[0m\u001b[1;33m=\u001b[0m\u001b[1;36m5\u001b[0m\u001b[1;33m,\u001b[0m\u001b[1;33m\u001b[0m\u001b[1;33m\u001b[0m\u001b[0m\n\u001b[0;32m     12\u001b[0m             xticklabels=labels, yticklabels=labels)\n",
      "\u001b[1;31mAttributeError\u001b[0m: 'AxesSubplot' object has no attribute 'sns'"
     ]
    },
    {
     "data": {
      "image/png": "[encoded data removed]",
      "text/plain": [
       "<Figure size 720x1440 with 2 Axes>"
      ]
     },
     "metadata": {},
     "output_type": "display_data"
    }
   ],
   "source": [
    "books['authors']=books['authors'].astype('category').cat.codes\n",
    "\n",
    "labels=['Authors','Average Rating','Ratings Count', 'Text Reviews Count','Number of Pages']\n",
    "\n",
    "f, (ax1, ax2) = plt.subplots(nrows = 2, figsize=(10,20))\n",
    "# correlation heatmap\n",
    "corr_df1 = books[['authors','average_rating','ratings_count','text_reviews_count','num_pages']].corr()\n",
    "corr_df2 = books[['authors','average_rating','ratings_count','text_reviews_count','num_pages']].head(100).corr()\n",
    "\n",
    "ax1.sns.heatmap(corr_df1, annot=True, vmax=1, vmin = 0, fmt='.3f', cmap='vlag_r',ax = ax1, \n",
    "            linewidth=5,\n",
    "            xticklabels=labels, yticklabels=labels)\n",
    "ax2.sns.heatmap(corr_df2, annot=True, vmax=1, vmin = 0, fmt='.3f', cmap='vlag_r',ax = ax2, \n",
    "            linewidth=5,\n",
    "            xticklabels=labels, yticklabels=labels);\n",
    "ax1.set_title('All books')\n"
   ]
  },
  {
   "cell_type": "code",
   "execution_count": null,
   "metadata": {},
   "outputs": [],
   "source": []
  },
  {
   "cell_type": "code",
   "execution_count": null,
   "metadata": {},
   "outputs": [],
   "source": []
  }
 ],
 "metadata": {
  "kernelspec": {
   "display_name": "Python 3",
   "language": "python",
   "name": "python3"
  },
  "language_info": {
   "codemirror_mode": {
    "name": "ipython",
    "version": 3
   },
   "file_extension": ".py",
   "mimetype": "text/x-python",
   "name": "python",
   "nbconvert_exporter": "python",
   "pygments_lexer": "ipython3",
   "version": "3.7.6"
  }
 },
 "nbformat": 4,
 "nbformat_minor": 4
}
